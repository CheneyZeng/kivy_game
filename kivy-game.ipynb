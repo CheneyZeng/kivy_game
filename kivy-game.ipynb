{
 "cells": [
  {
   "cell_type": "code",
   "execution_count": 1,
   "metadata": {},
   "outputs": [
    {
     "name": "stderr",
     "output_type": "stream",
     "text": [
      "[INFO   ] [Logger      ] Record log in /Users/chenzeng/.kivy/logs/kivy_18-11-23_27.txt\n",
      "[INFO   ] [Kivy        ] v1.10.1\n",
      "[INFO   ] [Python      ] v3.6.4 |Anaconda, Inc.| (default, Jan 16 2018, 12:04:33) \n",
      "[GCC 4.2.1 Compatible Clang 4.0.1 (tags/RELEASE_401/final)]\n",
      "[INFO   ] [Factory     ] 194 symbols loaded\n",
      "[INFO   ] [Image       ] Providers: img_tex, img_imageio, img_dds, img_sdl2, img_pil, img_gif (img_ffpyplayer ignored)\n",
      "[INFO   ] [Window      ] Provider: sdl2\n",
      "[INFO   ] [GL          ] Using the \"OpenGL ES 2\" graphics system\n",
      "[INFO   ] [GL          ] Backend used <gl>\n",
      "[INFO   ] [GL          ] OpenGL version <b'2.1 INTEL-10.32.48'>\n",
      "[INFO   ] [GL          ] OpenGL vendor <b'Intel Inc.'>\n",
      "[INFO   ] [GL          ] OpenGL renderer <b'Intel(R) HD Graphics 6000'>\n",
      "[INFO   ] [GL          ] OpenGL parsed version: 2, 1\n",
      "[INFO   ] [GL          ] Shading version <b'1.20'>\n",
      "[INFO   ] [GL          ] Texture max size <16384>\n",
      "[INFO   ] [GL          ] Texture max units <16>\n",
      "[INFO   ] [Window      ] auto add sdl2 input provider\n",
      "[INFO   ] [Window      ] virtual keyboard not allowed, single mode, not docked\n",
      "[INFO   ] [Text        ] Provider: sdl2\n",
      "[INFO   ] [GL          ] NPOT texture support is available\n",
      "[INFO   ] [Base        ] Start application main loop\n"
     ]
    },
    {
     "name": "stdout",
     "output_type": "stream",
     "text": [
      "你已经完成 1 /3 轮了，本局 你赢了!\n",
      "你已经完成 2 /3 轮了，本局 你输了!\n",
      "你已经完成 3 /3 轮了，本局 你输了!\n",
      "1\n",
      "重启游戏\n",
      "你已经完成 1 /3 轮了，本局 你输了!\n",
      "你已经完成 2 /3 轮了，本局 你赢了!\n",
      "你已经完成 3 /3 轮了，本局 你输了!\n",
      "1\n",
      "你已经完成 1 /3 轮了，本局 你赢了!\n",
      "你已经完成 2 /3 轮了，本局 你赢了!\n",
      "你已经完成 3 /3 轮了，本局 你赢了!\n",
      "3\n",
      "重启游戏\n",
      "重启游戏\n"
     ]
    },
    {
     "name": "stderr",
     "output_type": "stream",
     "text": [
      "[INFO   ] [Base        ] Leaving application in progress...\n"
     ]
    }
   ],
   "source": [
    "#ex33.py\n",
    "\n",
    "import numpy as np\n",
    "import kivy\n",
    "from kivy.app import App\n",
    "from kivy.uix.gridlayout import GridLayout\n",
    "from kivy.properties import NumericProperty\n",
    "from kivy.uix.behaviors import ButtonBehavior\n",
    "from kivy.uix.image import Image\n",
    "from kivy.properties import StringProperty\n",
    "\n",
    "def get_result():\n",
    "    lis = [\"你赢了!\",\"你输了!\"]\n",
    "    return np.random.choice(lis,1)\n",
    "\n",
    "class GameImage(ButtonBehavior, Image):\n",
    "    def on_touch_down(self, touch):\n",
    "        if self.collide_point(*touch.pos):\n",
    "            if App.get_running_app().flag < 3:\n",
    "                opponent = get_result()\n",
    "                App.get_running_app().results.append(opponent)\n",
    "                App.get_running_app().flag += 1\n",
    "                App.get_running_app().context = \"你已经完成 %s /3 轮了，本局 %s\" % (str(App.get_running_app().flag), \n",
    "                                                                         opponent[0])\n",
    "                print(App.get_running_app().context)\n",
    "            elif App.get_running_app().flag == 3:\n",
    "                print(App.get_running_app().results.count(\"你赢了!\"))\n",
    "                App.get_running_app().flag += 1\n",
    "                if App.get_running_app().results.count(\"你赢了!\")>1:\n",
    "                    App.get_running_app().context = \"本轮你赢了!\"\n",
    "                else:\n",
    "                    App.get_running_app().context = \"本轮你输了!\"\n",
    "            else:\n",
    "                App.get_running_app().context = \"重启游戏\"\n",
    "                print(App.get_running_app().context)\n",
    "\n",
    "class RestartImage(ButtonBehavior, Image):\n",
    "    def on_touch_down(self, touch):\n",
    "        if self.collide_point(*touch.pos):\n",
    "            App.get_running_app().flag = 0\n",
    "            App.get_running_app().context = \"请开始选择你的下一轮游戏，选择剪刀，石头，布\"\n",
    "            App.get_running_app().results = []\n",
    "                \n",
    "\n",
    "class Ex33(GridLayout):\n",
    "    def __init__(self, **kwargs):\n",
    "        super(Ex33, self).__init__(**kwargs)\n",
    "        App.get_running_app().context = \"请开始选择你的下一轮游戏，选择剪刀，石头，布\"\n",
    "\n",
    "class Ex33App(App):\n",
    "    context = StringProperty()\n",
    "    flag = 0\n",
    "    results = []\n",
    "\n",
    "    def build(self):\n",
    "        self.load_kv('kivy-game.kv')\n",
    "        return Ex33()\n",
    "\n",
    "if __name__ == '__main__':\n",
    "    Ex33App().run()"
   ]
  },
  {
   "cell_type": "code",
   "execution_count": null,
   "metadata": {},
   "outputs": [],
   "source": [
    "import os\n",
    "os._exit(00)"
   ]
  },
  {
   "cell_type": "code",
   "execution_count": 2,
   "metadata": {},
   "outputs": [],
   "source": [
    "import numpy as np\n",
    "def get_result():\n",
    "    lis = [\"You Win!\",\"You Lose!\"]\n",
    "    return np.random.choice(lis,1)\n"
   ]
  },
  {
   "cell_type": "code",
   "execution_count": 4,
   "metadata": {},
   "outputs": [],
   "source": [
    "s,n=0,0\n",
    "results = []\n",
    "for i in range(1,1000):\n",
    "    t = get_result()\n",
    "    if t == \"You Win!\":\n",
    "        n+=1\n",
    "        results.append(t)\n",
    "    s+=1\n"
   ]
  },
  {
   "cell_type": "code",
   "execution_count": 3,
   "metadata": {},
   "outputs": [
    {
     "name": "stdout",
     "output_type": "stream",
     "text": [
      "你赢了!\n"
     ]
    }
   ],
   "source": [
    "print(get_result()[0])"
   ]
  }
 ],
 "metadata": {
  "kernelspec": {
   "display_name": "Python [default]",
   "language": "python",
   "name": "python3"
  },
  "language_info": {
   "codemirror_mode": {
    "name": "ipython",
    "version": 3
   },
   "file_extension": ".py",
   "mimetype": "text/x-python",
   "name": "python",
   "nbconvert_exporter": "python",
   "pygments_lexer": "ipython3",
   "version": "3.6.4"
  }
 },
 "nbformat": 4,
 "nbformat_minor": 2
}
