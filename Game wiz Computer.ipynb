{
 "cells": [
  {
   "cell_type": "markdown",
   "metadata": {},
   "source": [
    "![udlogo.png](images/logo1.png)\n",
    "![logo3.png](images/logo3.png)"
   ]
  },
  {
   "cell_type": "markdown",
   "metadata": {},
   "source": [
    "版本号：1.1\n",
    "\n",
    "作者：Rita\n",
    "\n",
    "更新日期：2019.01.11"
   ]
  },
  {
   "cell_type": "markdown",
   "metadata": {},
   "source": [
    "### <div class=\"alert alert-warning\"> 项目课讲解事项：</div>\n",
    "1. 项目课的讲解，我们会使用科学营课后剩余的时间；\n",
    "2. 主要以课程的伪代码为课程的重心，不以手把手教授代码书写；\n",
    "3. 如果学生仍然不理解，可以讲解具体代码逻辑；"
   ]
  },
  {
   "cell_type": "code",
   "execution_count": null,
   "metadata": {},
   "outputs": [],
   "source": []
  },
  {
   "cell_type": "markdown",
   "metadata": {},
   "source": [
    "# 第一步：读入剪刀、石头、布图片\n",
    "\n",
    "在相应的文件夹下，读取我们所需要得到剪刀、石头、布的图片，并根据需求，重命名图片名字后，放置在相应的位置上；\n",
    "\n",
    "**我们的程序是直接读取文件名字**\n",
    "\n",
    "在这里，你要读取的文件在 '/images/'文件下，\n",
    "\n",
    "你需要读取 文件，并提出没有后缀名的 文件名字，比如 'paper.png' 就提取文字 'paper'。\n",
    "\n",
    "- paper：布\n",
    "- scissor：剪刀\n",
    "- rock：石头"
   ]
  },
  {
   "cell_type": "code",
   "execution_count": null,
   "metadata": {},
   "outputs": [],
   "source": [
    "############################\n",
    "# \n",
    "#\n",
    "#\n",
    "############################"
   ]
  },
  {
   "cell_type": "code",
   "execution_count": null,
   "metadata": {},
   "outputs": [],
   "source": [
    "assert"
   ]
  },
  {
   "cell_type": "markdown",
   "metadata": {},
   "source": [
    "# 第二步： 比比你 跟 计算机，谁赢了\n",
    "\n",
    "我们需要让计算机随机出一个结果，用来跟我们的*选择*的剪刀、石头、布 做比较。\n",
    "\n",
    "然后，根据我们计算机的结果，来判断 自己 是赢了，输了还是平了？\n",
    "\n"
   ]
  },
  {
   "cell_type": "markdown",
   "metadata": {},
   "source": [
    "<div class=\"alert alert-info\">你先来写一下，这个步骤如何实现呢？</div>\n",
    "\n",
    "提示：你可以使用 random 函数。\n",
    "\n"
   ]
  },
  {
   "cell_type": "markdown",
   "metadata": {},
   "source": [
    "答案：（在这里写下你的伪代码）"
   ]
  },
  {
   "cell_type": "code",
   "execution_count": null,
   "metadata": {},
   "outputs": [],
   "source": [
    "###########################\n",
    "#\n",
    "#\n",
    "#\n",
    "###########################"
   ]
  },
  {
   "cell_type": "markdown",
   "metadata": {},
   "source": [
    "（optional reading）random seeds 的意义"
   ]
  },
  {
   "cell_type": "markdown",
   "metadata": {},
   "source": [
    "# 第三步：一直比，直到比出结果\n",
    "\n",
    "我们想要三局两胜，来比比到底谁赢了？\n",
    "在这里你需要完成三个步骤：\n",
    " \n",
    "1. 你最终需要返回一个，有三个元素的列表[x,x,x]\n",
    "\n",
    "\n",
    "2. 每一个元素位置都需要返回一个“你赢了！”或者“你输了！”的结果\n",
    "\n",
    "    2.1 如果在当前位置处，电脑在随机生成一个结果得到了“你平了”的结果，那就继续比，直到得到“你赢了”或者“你输了”的结果。\n",
    "\n",
    "\n",
    "3. 在三个元素中，如果获得两个“你赢了！”，你就赢了。反之亦然"
   ]
  },
  {
   "cell_type": "markdown",
   "metadata": {},
   "source": [
    "<div class=\"alert alert-info\">你先来写一下，这个步骤如何实现呢？</div>\n",
    "\n",
    "提示：你可以使用 while 函数。"
   ]
  },
  {
   "cell_type": "code",
   "execution_count": null,
   "metadata": {},
   "outputs": [],
   "source": [
    "###########################\n",
    "#\n",
    "#\n",
    "#\n",
    "###########################\n",
    "def get_result()\n",
    "    None"
   ]
  },
  {
   "cell_type": "markdown",
   "metadata": {},
   "source": [
    "###########################\n",
    "###########################\n",
    "\n",
    "下面是剧透⬇️\n",
    "\n",
    "###########################\n",
    "###########################\n",
    "\n",
    ">  \n",
    "小tips来优化代码：\n",
    "- while循环可以实现无限的比赛，直到有结果输出，则循环停止；\n",
    "- 分别判断“Win”和“Lose”的个数，哪个大则三局两胜的结果就是哪个；"
   ]
  },
  {
   "cell_type": "markdown",
   "metadata": {},
   "source": [
    "# 第四步：实现窗体的交互\n",
    "\n",
    "通过方法来调用我们已经写好的窗体，实现剪刀石头布的小游戏；\n",
    "\n",
    "这里我们实现一个简单版的 get_result() 实现；\n",
    "\n",
    "* 刚刚我们已经书写了一个比较复杂，比较符合逻辑判断的 get_result() 函数；\n",
    "* 我们实际需要的是，包含[“你赢了”，“你输了”]的列表；\n",
    "* 我们可以让所有的剪刀、石头、布所在的按钮都执行一个简单操作；\n",
    "    * 随机得到“你赢了”、“你输了”的结果；\n",
    "* 你来想一想，是不是这样？\n",
    "\n",
    "下面👇，实现你的代码：\n",
    "1. get_result()简单版，随机返回“你赢了！”，“你输了！”\n",
    "2. 实现GameApp窗口主函数\n",
    "\n",
    "提示：GameApp().run()"
   ]
  },
  {
   "cell_type": "code",
   "execution_count": 1,
   "metadata": {},
   "outputs": [
    {
     "name": "stderr",
     "output_type": "stream",
     "text": [
      "[INFO   ] [Logger      ] Record log in /Users/chenzeng/.kivy/logs/kivy_19-01-11_3.txt\n",
      "[INFO   ] [Kivy        ] v1.10.1\n",
      "[INFO   ] [Python      ] v3.6.7 |Anaconda, Inc.| (default, Oct 23 2018, 14:01:38) \n",
      "[GCC 4.2.1 Compatible Clang 4.0.1 (tags/RELEASE_401/final)]\n",
      "[INFO   ] [Factory     ] 194 symbols loaded\n",
      "[INFO   ] [Image       ] Providers: img_tex, img_imageio, img_dds, img_sdl2, img_gif (img_pil, img_ffpyplayer ignored)\n",
      "[INFO   ] [Window      ] Provider: sdl2\n",
      "[INFO   ] [GL          ] Using the \"OpenGL ES 2\" graphics system\n",
      "[INFO   ] [GL          ] Backend used <gl>\n",
      "[INFO   ] [GL          ] OpenGL version <b'2.1 INTEL-10.32.48'>\n",
      "[INFO   ] [GL          ] OpenGL vendor <b'Intel Inc.'>\n",
      "[INFO   ] [GL          ] OpenGL renderer <b'Intel(R) HD Graphics 6000'>\n",
      "[INFO   ] [GL          ] OpenGL parsed version: 2, 1\n",
      "[INFO   ] [GL          ] Shading version <b'1.20'>\n",
      "[INFO   ] [GL          ] Texture max size <16384>\n",
      "[INFO   ] [GL          ] Texture max units <16>\n",
      "[INFO   ] [Window      ] auto add sdl2 input provider\n",
      "[INFO   ] [Window      ] virtual keyboard not allowed, single mode, not docked\n",
      "[INFO   ] [Text        ] Provider: sdl2\n",
      "[INFO   ] [GL          ] NPOT texture support is available\n",
      "[INFO   ] [Base        ] Start application main loop\n"
     ]
    },
    {
     "name": "stdout",
     "output_type": "stream",
     "text": [
      "你已经完成 1 /3 轮了，本局 你赢了!\n",
      "你已经完成 2 /3 轮了，本局 你输了!\n",
      "你已经完成 3 /3 轮了，本局 你输了!\n",
      "1\n",
      "重启游戏\n",
      "重启游戏\n",
      "重启游戏\n",
      "重启游戏\n",
      "重启游戏\n",
      "重启游戏\n",
      "重启游戏\n",
      "你已经完成 1 /3 轮了，本局 你赢了!\n",
      "你已经完成 2 /3 轮了，本局 你赢了!\n",
      "你已经完成 3 /3 轮了，本局 你赢了!\n"
     ]
    },
    {
     "name": "stderr",
     "output_type": "stream",
     "text": [
      "[INFO   ] [Base        ] Leaving application in progress...\n"
     ]
    }
   ],
   "source": [
    "##########################\n",
    "#\n",
    "#\n",
    "#\n",
    "##########################\n",
    "from GameApp import *\n",
    "\n",
    "def get_result()\n",
    "    None\n",
    "\n",
    "GameApp().run()\n"
   ]
  },
  {
   "cell_type": "code",
   "execution_count": null,
   "metadata": {},
   "outputs": [],
   "source": [
    "import os\n",
    "os._exit(00)"
   ]
  },
  {
   "cell_type": "markdown",
   "metadata": {},
   "source": [
    "<div class=\"alert alert-warning\"># 回答问题：</div>\n",
    "\n",
    "*1. 这个项目中哪些是 前端，哪些是 后端 ？\n",
    "答：\n",
    "\n",
    "\n",
    "*2. 如果我们需要间隔10秒打开一次浏览窗口，共重复3次，怎么做比较好？\n",
    "答：\n",
    "\n",
    "\n",
    "*3. 对控制流怎么看？\n",
    "答："
   ]
  },
  {
   "cell_type": "markdown",
   "metadata": {},
   "source": [
    "<a id='step5'></a>\n",
    "\n",
    "# 材料提交 & 准备\n",
    "\n",
    "同学们需要自己进入Udacity在线教室进行提交，   \n",
    "\n",
    "[优达学城在线教室链接](https://classroom.udacity.com/nanodegrees/nd601-cn-basic/parts/7f589f70-27db-4a29-9cfa-cb1129e104d5/modules/31198821-ecdb-4469-a2f8-44d3e4ec0d98/lessons/db64f56f-469e-4cbe-a8d4-3a5b3f6a675f/concepts/0a595c7c-d4db-412a-a0c6-7256d271e402)\n",
    "\n",
    "<div class=\"alert alert-info\">\n",
    "1. 请把这个 ipynb 另存为 ‘File - Download as’ html文件；\n",
    "</div>\n",
    "\n",
    "<div class=\"alert alert-info\">\n",
    "2. 将 Tkinter-clock.ipynb 和 Tkinter-clock.html 一起打包后，在*你的教室*中“小闹钟”项目内提交；\n",
    "</div>\n",
    "\n",
    "* 祝你通关顺利！～"
   ]
  },
  {
   "cell_type": "markdown",
   "metadata": {},
   "source": [
    "<a id='step6'></a>\n",
    "# 作业内容与提交时间\n",
    "    6.1 作业内容：\n",
    "        * 本节的ipynb\n",
    "        * 本节的html\n",
    "\n",
    "    6.2 提交方式：\n",
    "        * 教室里的提交按钮\n",
    "\n",
    "    6.3 截止时间：\n",
    "        * 本课程结束前\n",
    "\n",
    "    6.4 获取成绩时间：\n",
    "        * 评阅一般会在1-3个工作日内回复；\n",
    "\n",
    "    6.5 获取成绩方式：\n",
    "        * 在教室中会得到评阅者的评阅，同时，你的邮箱也会得到通知；"
   ]
  },
  {
   "cell_type": "markdown",
   "metadata": {},
   "source": [
    "<a id='step7'></a>\n",
    "# 导师联系与答疑\n",
    "    有任何问题可以在群内联系导师解答\n",
    "\n",
    "    谢谢！"
   ]
  },
  {
   "cell_type": "markdown",
   "metadata": {},
   "source": [
    "![logo2.png](images/logo2.jpg)"
   ]
  }
 ],
 "metadata": {
  "kernelspec": {
   "display_name": "Python 3",
   "language": "python",
   "name": "python3"
  },
  "language_info": {
   "codemirror_mode": {
    "name": "ipython",
    "version": 3
   },
   "file_extension": ".py",
   "mimetype": "text/x-python",
   "name": "python",
   "nbconvert_exporter": "python",
   "pygments_lexer": "ipython3",
   "version": "3.6.7"
  },
  "toc": {
   "base_numbering": 1,
   "nav_menu": {},
   "number_sections": true,
   "sideBar": true,
   "skip_h1_title": false,
   "title_cell": "Table of Contents",
   "title_sidebar": "Contents",
   "toc_cell": false,
   "toc_position": {},
   "toc_section_display": true,
   "toc_window_display": false
  }
 },
 "nbformat": 4,
 "nbformat_minor": 2
}
