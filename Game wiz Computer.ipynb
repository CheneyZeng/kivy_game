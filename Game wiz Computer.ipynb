{
 "cells": [
  {
   "cell_type": "markdown",
   "metadata": {},
   "source": [
    "# 第一步：读入剪刀、石头、布图片\n",
    "\n",
    "在相应的文件夹下，读取我们所需要得到剪刀、石头、布的图片，并根据需求，重命名图片名字后，放置在相应的位置上；\n",
    "\n",
    "**我们的程序是直接读取文件名字**"
   ]
  },
  {
   "cell_type": "code",
   "execution_count": null,
   "metadata": {},
   "outputs": [],
   "source": [
    "############################\n",
    "# \n",
    "#\n",
    "#\n",
    "############################"
   ]
  },
  {
   "cell_type": "markdown",
   "metadata": {},
   "source": [
    "# 第二步： 比比你 跟 计算机，谁赢了\n",
    "\n",
    "我们需要让计算机随机出一个结果，用来跟我们的*选择*的剪刀、石头、布 做比较。\n",
    "\n",
    "然后，根据我们计算机的结果，来判断 自己 是赢了 还是 输了？"
   ]
  },
  {
   "cell_type": "code",
   "execution_count": null,
   "metadata": {},
   "outputs": [],
   "source": [
    "###########################\n",
    "#\n",
    "#\n",
    "#\n",
    "###########################"
   ]
  },
  {
   "cell_type": "markdown",
   "metadata": {},
   "source": [
    "# 第三步：一直比，直到比出结果\n",
    "\n",
    "我们想要三局两胜，来比比到底谁赢了？\n",
    "在这里你需要完成三个步骤：\n",
    " \n",
    "1.你需要一个有三个元素的列表[x,x,x]\n",
    "\n",
    "2.每一个元素位置都需要返回一个“Win”或者“Lose”的结果，如果是平局，则再比一次\n",
    "\n",
    "3.在三个元素中，如果获得两个“Win”，你就赢了"
   ]
  },
  {
   "cell_type": "code",
   "execution_count": null,
   "metadata": {},
   "outputs": [],
   "source": [
    "###########################\n",
    "#\n",
    "#\n",
    "#\n",
    "###########################"
   ]
  },
  {
   "cell_type": "markdown",
   "metadata": {},
   "source": [
    "###########################\n",
    "###########################\n",
    "\n",
    "下面是剧透⬇️\n",
    "\n",
    "###########################\n",
    "###########################\n",
    "\n",
    ">  \n",
    "小tips来优化代码：\n",
    "- while循环可以实现无限的比赛，直到有结果输出，则循环停止；\n",
    "- 分别判断“Win”和“Lose”的个数，哪个大则三局两胜的结果就是哪个；"
   ]
  },
  {
   "cell_type": "markdown",
   "metadata": {},
   "source": [
    "# 第四步：实现窗体的交互\n",
    "\n",
    "通过方法来调用我们已经写好的窗体，实现剪刀石头布的小游戏"
   ]
  }
 ],
 "metadata": {
  "kernelspec": {
   "display_name": "Python [default]",
   "language": "python",
   "name": "python3"
  },
  "language_info": {
   "codemirror_mode": {
    "name": "ipython",
    "version": 3
   },
   "file_extension": ".py",
   "mimetype": "text/x-python",
   "name": "python",
   "nbconvert_exporter": "python",
   "pygments_lexer": "ipython3",
   "version": "3.6.4"
  }
 },
 "nbformat": 4,
 "nbformat_minor": 2
}
